{
 "cells": [
  {
   "cell_type": "code",
   "execution_count": null,
   "metadata": {},
   "outputs": [],
   "source": [
    "import pickle\n",
    "\n"
   ]
  },
  {
   "cell_type": "code",
   "execution_count": null,
   "metadata": {},
   "outputs": [],
   "source": [
    "\n",
    "\n",
    "# unpickling the model\n",
    "with open('voiture_model_LR.pkl', 'rb') as f:\n",
    "    model_LR  = pickle.load(f)\n",
    "\n",
    "print (\"imported model : \", model_LR)"
   ]
  },
  {
   "cell_type": "code",
   "execution_count": null,
   "metadata": {},
   "outputs": [],
   "source": [
    "\n",
    "# Version : Allure 1.2 puretech (make)\n",
    "# Année 2021 (boreratio * 100 // 20 )\n",
    "# Kilométrage : 10 km ( (2021-année)* 15000 )\n",
    "# Energie : Essence (fueltype)\n",
    "# Transmission : Manuelle (adapter aspiration)\n",
    "# Nb de portes : 4 portes avec hayon (doornumber)\n",
    "# Puissance fiscale : 5 CV (horsepower)\n",
    "# Prix 22 370 € (price)\n"
   ]
  },
  {
   "cell_type": "code",
   "execution_count": 60,
   "metadata": {},
   "outputs": [],
   "source": [
    "import pandas as pd\n",
    "import seaborn as sns\n",
    "import matplotlib.pyplot as plt\n",
    "import numpy.random as rd\n",
    "import re\n"
   ]
  },
  {
   "cell_type": "code",
   "execution_count": 52,
   "metadata": {},
   "outputs": [],
   "source": [
    "df = pd.read_csv('AutoData.csv')"
   ]
  },
  {
   "cell_type": "code",
   "execution_count": 53,
   "metadata": {},
   "outputs": [
    {
     "data": {
      "text/plain": [
       "Index(['symboling', 'version', 'energie', 'transmission', 'portes', 'carbody',\n",
       "       'drivewheel', 'enginelocation', 'wheelbase', 'carlength', 'carwidth',\n",
       "       'carheight', 'curbweight', 'enginetype', 'cylindernumber', 'enginesize',\n",
       "       'fuelsystem', 'boreratio', 'stroke', 'compressionratio', 'puissance',\n",
       "       'peakrpm', 'citympg', 'highwaympg', 'prix'],\n",
       "      dtype='object')"
      ]
     },
     "execution_count": 53,
     "metadata": {},
     "output_type": "execute_result"
    }
   ],
   "source": [
    "df.rename(columns={'price':'prix', 'make':'version','fueltype':'energie','doornumber':'portes','horsepower':'puissance', 'aspiration':'transmission'}, inplace=True)\n",
    "df.keys()"
   ]
  },
  {
   "cell_type": "code",
   "execution_count": 55,
   "metadata": {},
   "outputs": [],
   "source": [
    "df['ans']= (df.wheelbase * 10 % 8) +  (df.carlength * 10 % 8) +  rd.randint(1,3,len(df['prix']))"
   ]
  },
  {
   "cell_type": "code",
   "execution_count": 56,
   "metadata": {},
   "outputs": [
    {
     "name": "stderr",
     "output_type": "stream",
     "text": [
      "/tmp/ipykernel_101112/4206200943.py:3: SettingWithCopyWarning: \n",
      "A value is trying to be set on a copy of a slice from a DataFrame\n",
      "\n",
      "See the caveats in the documentation: https://pandas.pydata.org/pandas-docs/stable/user_guide/indexing.html#returning-a-view-versus-a-copy\n",
      "  df.kilometrage[i]=df.kilometrage[i]+df.an[i]*rd.randint(1,30)*1000\n"
     ]
    }
   ],
   "source": [
    "df['kilometrage']= rd.randint(1,30000,len(df['prix']))\n",
    "for i in range(len(df['prix'])):\n",
    "    df.kilometrage[i]=df.kilometrage[i]+df.an[i]*rd.randint(1,30)*1000"
   ]
  },
  {
   "cell_type": "code",
   "execution_count": 57,
   "metadata": {},
   "outputs": [
    {
     "data": {
      "text/plain": [
       "Index(['symboling', 'version', 'energie', 'transmission', 'portes', 'carbody',\n",
       "       'drivewheel', 'enginelocation', 'wheelbase', 'carlength', 'carwidth',\n",
       "       'carheight', 'curbweight', 'enginetype', 'cylindernumber', 'enginesize',\n",
       "       'fuelsystem', 'boreratio', 'stroke', 'compressionratio', 'puissance',\n",
       "       'peakrpm', 'citympg', 'highwaympg', 'prix', 'an', 'kilometrage'],\n",
       "      dtype='object')"
      ]
     },
     "execution_count": 57,
     "metadata": {},
     "output_type": "execute_result"
    }
   ],
   "source": [
    "df.keys()"
   ]
  },
  {
   "cell_type": "code",
   "execution_count": 78,
   "metadata": {},
   "outputs": [],
   "source": [
    "df.drop( ['symboling', 'carbody','drivewheel', 'enginelocation', 'wheelbase', 'carlength', 'carwidth', 'carheight', 'curbweight', 'enginetype', 'cylindernumber', 'enginesize', 'fuelsystem', 'boreratio', 'stroke', 'compressionratio', 'peakrpm', 'citympg', 'highwaympg'], axis =1,inplace=True)"
   ]
  },
  {
   "cell_type": "code",
   "execution_count": 102,
   "metadata": {},
   "outputs": [
    {
     "name": "stderr",
     "output_type": "stream",
     "text": [
      "/tmp/ipykernel_101112/1810664303.py:6: SettingWithCopyWarning: \n",
      "A value is trying to be set on a copy of a slice from a DataFrame\n",
      "\n",
      "See the caveats in the documentation: https://pandas.pydata.org/pandas-docs/stable/user_guide/indexing.html#returning-a-view-versus-a-copy\n",
      "  df.marque[i]= res.group()\n"
     ]
    }
   ],
   "source": [
    "df['marque']=df['version']\n",
    "\n",
    "for i in range(len(df['prix'])):\n",
    "    res = re.search('^.+?\\s', df.version[i] )\n",
    "    if res:\n",
    "        df.marque[i]= res.group()"
   ]
  },
  {
   "cell_type": "code",
   "execution_count": 103,
   "metadata": {},
   "outputs": [
    {
     "data": {
      "text/plain": [
       "array(['alfa-romero ', 'audi ', 'bmw ', 'chevrolet ', 'dodge ', 'honda ',\n",
       "       'isuzu ', 'jaguar ', 'maxda ', 'mazda ', 'buick ', 'mercury ',\n",
       "       'mitsubishi ', 'Nissan ', 'nissan ', 'peugeot ', 'plymouth ',\n",
       "       'porsche ', 'porcshce ', 'renault ', 'saab ', 'subaru', 'subaru ',\n",
       "       'toyota ', 'toyouta ', 'vokswagen ', 'volkswagen ', 'vw ',\n",
       "       'volvo '], dtype=object)"
      ]
     },
     "execution_count": 103,
     "metadata": {},
     "output_type": "execute_result"
    }
   ],
   "source": [
    "df.marque.unique()"
   ]
  },
  {
   "cell_type": "code",
   "execution_count": 122,
   "metadata": {},
   "outputs": [],
   "source": [
    "df['energie'].replace(['gas'], 'essence', inplace=True)"
   ]
  },
  {
   "cell_type": "code",
   "execution_count": 120,
   "metadata": {},
   "outputs": [],
   "source": [
    "df['transmission'].replace(['std'], 'manuelle', inplace=True)\n",
    "df['transmission'].replace(['turbo'], 'automatique', inplace=True)"
   ]
  },
  {
   "cell_type": "code",
   "execution_count": 124,
   "metadata": {},
   "outputs": [],
   "source": [
    "df['portes'].replace(['two'], 2, inplace=True)\n",
    "df['portes'].replace(['four'], 4, inplace=True)"
   ]
  },
  {
   "cell_type": "code",
   "execution_count": 127,
   "metadata": {},
   "outputs": [
    {
     "data": {
      "text/html": [
       "<div>\n",
       "<style scoped>\n",
       "    .dataframe tbody tr th:only-of-type {\n",
       "        vertical-align: middle;\n",
       "    }\n",
       "\n",
       "    .dataframe tbody tr th {\n",
       "        vertical-align: top;\n",
       "    }\n",
       "\n",
       "    .dataframe thead th {\n",
       "        text-align: right;\n",
       "    }\n",
       "</style>\n",
       "<table border=\"1\" class=\"dataframe\">\n",
       "  <thead>\n",
       "    <tr style=\"text-align: right;\">\n",
       "      <th></th>\n",
       "      <th>version</th>\n",
       "      <th>energie</th>\n",
       "      <th>transmission</th>\n",
       "      <th>portes</th>\n",
       "      <th>puissance</th>\n",
       "      <th>prix</th>\n",
       "      <th>ans</th>\n",
       "      <th>kilometrage</th>\n",
       "      <th>marque</th>\n",
       "    </tr>\n",
       "  </thead>\n",
       "  <tbody>\n",
       "    <tr>\n",
       "      <th>0</th>\n",
       "      <td>alfa-romero giulia</td>\n",
       "      <td>essence</td>\n",
       "      <td>manuelle</td>\n",
       "      <td>2</td>\n",
       "      <td>111</td>\n",
       "      <td>13495.0</td>\n",
       "      <td>8.0</td>\n",
       "      <td>49474</td>\n",
       "      <td>alfa-romero</td>\n",
       "    </tr>\n",
       "    <tr>\n",
       "      <th>1</th>\n",
       "      <td>alfa-romero stelvio</td>\n",
       "      <td>essence</td>\n",
       "      <td>manuelle</td>\n",
       "      <td>2</td>\n",
       "      <td>111</td>\n",
       "      <td>16500.0</td>\n",
       "      <td>7.0</td>\n",
       "      <td>132109</td>\n",
       "      <td>alfa-romero</td>\n",
       "    </tr>\n",
       "    <tr>\n",
       "      <th>2</th>\n",
       "      <td>alfa-romero Quadrifoglio</td>\n",
       "      <td>essence</td>\n",
       "      <td>manuelle</td>\n",
       "      <td>2</td>\n",
       "      <td>154</td>\n",
       "      <td>16500.0</td>\n",
       "      <td>3.0</td>\n",
       "      <td>81097</td>\n",
       "      <td>alfa-romero</td>\n",
       "    </tr>\n",
       "    <tr>\n",
       "      <th>3</th>\n",
       "      <td>audi 100 ls</td>\n",
       "      <td>essence</td>\n",
       "      <td>manuelle</td>\n",
       "      <td>4</td>\n",
       "      <td>102</td>\n",
       "      <td>13950.0</td>\n",
       "      <td>13.0</td>\n",
       "      <td>324792</td>\n",
       "      <td>audi</td>\n",
       "    </tr>\n",
       "    <tr>\n",
       "      <th>4</th>\n",
       "      <td>audi 100ls</td>\n",
       "      <td>essence</td>\n",
       "      <td>manuelle</td>\n",
       "      <td>4</td>\n",
       "      <td>115</td>\n",
       "      <td>17450.0</td>\n",
       "      <td>9.0</td>\n",
       "      <td>144573</td>\n",
       "      <td>audi</td>\n",
       "    </tr>\n",
       "  </tbody>\n",
       "</table>\n",
       "</div>"
      ],
      "text/plain": [
       "                    version  energie transmission  portes  puissance     prix  \\\n",
       "0        alfa-romero giulia  essence     manuelle       2        111  13495.0   \n",
       "1       alfa-romero stelvio  essence     manuelle       2        111  16500.0   \n",
       "2  alfa-romero Quadrifoglio  essence     manuelle       2        154  16500.0   \n",
       "3               audi 100 ls  essence     manuelle       4        102  13950.0   \n",
       "4                audi 100ls  essence     manuelle       4        115  17450.0   \n",
       "\n",
       "    ans  kilometrage        marque  \n",
       "0   8.0        49474  alfa-romero   \n",
       "1   7.0       132109  alfa-romero   \n",
       "2   3.0        81097  alfa-romero   \n",
       "3  13.0       324792         audi   \n",
       "4   9.0       144573         audi   "
      ]
     },
     "execution_count": 127,
     "metadata": {},
     "output_type": "execute_result"
    }
   ],
   "source": [
    "df.head()"
   ]
  },
  {
   "cell_type": "code",
   "execution_count": 128,
   "metadata": {},
   "outputs": [],
   "source": [
    "df.to_csv('fakeAutoData.csv')"
   ]
  }
 ],
 "metadata": {
  "interpreter": {
   "hash": "31f2aee4e71d21fbe5cf8b01ff0e069b9275f58929596ceb00d14d90e3e16cd6"
  },
  "kernelspec": {
   "display_name": "Python 3.8.10 64-bit",
   "language": "python",
   "name": "python3"
  },
  "language_info": {
   "codemirror_mode": {
    "name": "ipython",
    "version": 3
   },
   "file_extension": ".py",
   "mimetype": "text/x-python",
   "name": "python",
   "nbconvert_exporter": "python",
   "pygments_lexer": "ipython3",
   "version": "3.8.10"
  },
  "orig_nbformat": 4
 },
 "nbformat": 4,
 "nbformat_minor": 2
}
