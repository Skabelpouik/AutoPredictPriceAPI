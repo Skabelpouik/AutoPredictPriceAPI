{
 "cells": [
  {
   "cell_type": "markdown",
   "metadata": {},
   "source": [
    "### Utlisisation d'un jeu de données sur des voitures neuves pour créer un jeu de données 'Fake'"
   ]
  },
  {
   "cell_type": "code",
   "execution_count": 71,
   "metadata": {},
   "outputs": [],
   "source": [
    "import pandas as pd\n",
    "import seaborn as sns\n",
    "import matplotlib.pyplot as plt\n",
    "import numpy.random as rd\n",
    "import re\n"
   ]
  },
  {
   "cell_type": "code",
   "execution_count": 72,
   "metadata": {},
   "outputs": [],
   "source": [
    "df = pd.read_csv('Automobile_data_4fake.csv')"
   ]
  },
  {
   "cell_type": "code",
   "execution_count": 73,
   "metadata": {},
   "outputs": [
    {
     "data": {
      "text/plain": [
       "Index(['symboling', 'emissions', 'version', 'energie', 'transmission',\n",
       "       'portes', 'body-style', 'drive-wheels', 'engine-location', 'wheel-base',\n",
       "       'length', 'width', 'height', 'curb-weight', 'engine-type',\n",
       "       'num-of-cylinders', 'engine-size', 'fuel-system', 'bore', 'stroke',\n",
       "       'compression-ratio', 'puissance', 'peak-rpm', 'city-mpg', 'highway-mpg',\n",
       "       'prix'],\n",
       "      dtype='object')"
      ]
     },
     "execution_count": 73,
     "metadata": {},
     "output_type": "execute_result"
    }
   ],
   "source": [
    "df.rename(columns={'price':'prix', 'make':'version','fuel-type':'energie','num-of-doors':'portes','horsepower':'puissance', 'aspiration':'transmission',  'normalized-losses': 'emissions'}, inplace=True)\n",
    "df.keys()"
   ]
  },
  {
   "cell_type": "code",
   "execution_count": 74,
   "metadata": {},
   "outputs": [],
   "source": [
    "df['ans']= (df['wheel-base'] * 10 % 8) +  (df.length * 10 % 8) +  rd.randint(1,3,len(df['prix']))"
   ]
  },
  {
   "cell_type": "code",
   "execution_count": 75,
   "metadata": {},
   "outputs": [
    {
     "name": "stderr",
     "output_type": "stream",
     "text": [
      "C:\\Users\\ERICBE~1\\AppData\\Local\\Temp/ipykernel_25636/1823238392.py:3: SettingWithCopyWarning: \n",
      "A value is trying to be set on a copy of a slice from a DataFrame\n",
      "\n",
      "See the caveats in the documentation: https://pandas.pydata.org/pandas-docs/stable/user_guide/indexing.html#returning-a-view-versus-a-copy\n",
      "  df.kilometrage[i]=df.kilometrage[i]+df.ans[i]*rd.randint(1,30)*1000\n"
     ]
    }
   ],
   "source": [
    "df['kilometrage']= rd.randint(1,30000,len(df['prix']))\n",
    "for i in range(len(df['prix'])):\n",
    "    df.kilometrage[i]=df.kilometrage[i]+df.ans[i]*rd.randint(1,30)*1000"
   ]
  },
  {
   "cell_type": "code",
   "execution_count": 76,
   "metadata": {},
   "outputs": [
    {
     "data": {
      "text/plain": [
       "Index(['symboling', 'emissions', 'version', 'energie', 'transmission',\n",
       "       'portes', 'body-style', 'drive-wheels', 'engine-location', 'wheel-base',\n",
       "       'length', 'width', 'height', 'curb-weight', 'engine-type',\n",
       "       'num-of-cylinders', 'engine-size', 'fuel-system', 'bore', 'stroke',\n",
       "       'compression-ratio', 'puissance', 'peak-rpm', 'city-mpg', 'highway-mpg',\n",
       "       'prix', 'ans', 'kilometrage'],\n",
       "      dtype='object')"
      ]
     },
     "execution_count": 76,
     "metadata": {},
     "output_type": "execute_result"
    }
   ],
   "source": [
    "df.keys()"
   ]
  },
  {
   "cell_type": "code",
   "execution_count": 77,
   "metadata": {},
   "outputs": [],
   "source": [
    "df.drop( ['symboling', 'body-style','drive-wheels', 'engine-location', 'wheel-base', 'length', 'width', 'height', 'curb-weight', 'engine-type', 'num-of-cylinders', 'engine-size', 'fuel-system', 'bore', 'stroke', 'compression-ratio', 'peak-rpm', 'city-mpg', 'highway-mpg'], axis =1,inplace=True)"
   ]
  },
  {
   "cell_type": "code",
   "execution_count": 78,
   "metadata": {},
   "outputs": [],
   "source": [
    "df['marque']=df['version']\n",
    "\n",
    "for i in range(len(df['prix'])):\n",
    "    res = re.search('^.+?\\s', df.version[i] )\n",
    "    if res:\n",
    "        df.marque[i]= res.group()"
   ]
  },
  {
   "cell_type": "code",
   "execution_count": 79,
   "metadata": {},
   "outputs": [
    {
     "data": {
      "text/plain": [
       "array(['alfa-romero', 'audi', 'bmw', 'chevrolet', 'dodge', 'honda',\n",
       "       'isuzu', 'jaguar', 'mazda', 'mercedes-benz', 'mercury',\n",
       "       'mitsubishi', 'nissan', 'peugot', 'plymouth', 'porsche', 'renault',\n",
       "       'saab', 'subaru', 'toyota', 'volkswagen', 'volvo'], dtype=object)"
      ]
     },
     "execution_count": 79,
     "metadata": {},
     "output_type": "execute_result"
    }
   ],
   "source": [
    "df.marque.unique()"
   ]
  },
  {
   "cell_type": "code",
   "execution_count": 80,
   "metadata": {},
   "outputs": [],
   "source": [
    "df['energie'].replace(['gas'], 'essence', inplace=True)"
   ]
  },
  {
   "cell_type": "code",
   "execution_count": 81,
   "metadata": {},
   "outputs": [],
   "source": [
    "df['transmission'].replace(['std'], 'manuelle', inplace=True)\n",
    "df['transmission'].replace(['turbo'], 'automatique', inplace=True)"
   ]
  },
  {
   "cell_type": "code",
   "execution_count": 82,
   "metadata": {},
   "outputs": [],
   "source": [
    "df['portes'].replace(['two'], 2, inplace=True)\n",
    "df['portes'].replace(['four'], 4, inplace=True)"
   ]
  },
  {
   "cell_type": "code",
   "execution_count": 83,
   "metadata": {},
   "outputs": [
    {
     "data": {
      "text/html": [
       "<div>\n",
       "<style scoped>\n",
       "    .dataframe tbody tr th:only-of-type {\n",
       "        vertical-align: middle;\n",
       "    }\n",
       "\n",
       "    .dataframe tbody tr th {\n",
       "        vertical-align: top;\n",
       "    }\n",
       "\n",
       "    .dataframe thead th {\n",
       "        text-align: right;\n",
       "    }\n",
       "</style>\n",
       "<table border=\"1\" class=\"dataframe\">\n",
       "  <thead>\n",
       "    <tr style=\"text-align: right;\">\n",
       "      <th></th>\n",
       "      <th>emissions</th>\n",
       "      <th>version</th>\n",
       "      <th>energie</th>\n",
       "      <th>transmission</th>\n",
       "      <th>portes</th>\n",
       "      <th>puissance</th>\n",
       "      <th>prix</th>\n",
       "      <th>ans</th>\n",
       "      <th>kilometrage</th>\n",
       "      <th>marque</th>\n",
       "    </tr>\n",
       "  </thead>\n",
       "  <tbody>\n",
       "    <tr>\n",
       "      <th>0</th>\n",
       "      <td>?</td>\n",
       "      <td>alfa-romero</td>\n",
       "      <td>essence</td>\n",
       "      <td>manuelle</td>\n",
       "      <td>2</td>\n",
       "      <td>111</td>\n",
       "      <td>13495</td>\n",
       "      <td>8.0</td>\n",
       "      <td>105492</td>\n",
       "      <td>alfa-romero</td>\n",
       "    </tr>\n",
       "    <tr>\n",
       "      <th>1</th>\n",
       "      <td>?</td>\n",
       "      <td>alfa-romero</td>\n",
       "      <td>essence</td>\n",
       "      <td>manuelle</td>\n",
       "      <td>2</td>\n",
       "      <td>111</td>\n",
       "      <td>16500</td>\n",
       "      <td>7.0</td>\n",
       "      <td>196554</td>\n",
       "      <td>alfa-romero</td>\n",
       "    </tr>\n",
       "    <tr>\n",
       "      <th>2</th>\n",
       "      <td>?</td>\n",
       "      <td>alfa-romero</td>\n",
       "      <td>essence</td>\n",
       "      <td>manuelle</td>\n",
       "      <td>2</td>\n",
       "      <td>154</td>\n",
       "      <td>16500</td>\n",
       "      <td>3.0</td>\n",
       "      <td>65386</td>\n",
       "      <td>alfa-romero</td>\n",
       "    </tr>\n",
       "    <tr>\n",
       "      <th>3</th>\n",
       "      <td>164</td>\n",
       "      <td>audi</td>\n",
       "      <td>essence</td>\n",
       "      <td>manuelle</td>\n",
       "      <td>4</td>\n",
       "      <td>102</td>\n",
       "      <td>13950</td>\n",
       "      <td>14.0</td>\n",
       "      <td>137872</td>\n",
       "      <td>audi</td>\n",
       "    </tr>\n",
       "    <tr>\n",
       "      <th>4</th>\n",
       "      <td>164</td>\n",
       "      <td>audi</td>\n",
       "      <td>essence</td>\n",
       "      <td>manuelle</td>\n",
       "      <td>4</td>\n",
       "      <td>115</td>\n",
       "      <td>17450</td>\n",
       "      <td>10.0</td>\n",
       "      <td>305802</td>\n",
       "      <td>audi</td>\n",
       "    </tr>\n",
       "  </tbody>\n",
       "</table>\n",
       "</div>"
      ],
      "text/plain": [
       "  emissions      version  energie transmission portes puissance   prix   ans  \\\n",
       "0         ?  alfa-romero  essence     manuelle      2       111  13495   8.0   \n",
       "1         ?  alfa-romero  essence     manuelle      2       111  16500   7.0   \n",
       "2         ?  alfa-romero  essence     manuelle      2       154  16500   3.0   \n",
       "3       164         audi  essence     manuelle      4       102  13950  14.0   \n",
       "4       164         audi  essence     manuelle      4       115  17450  10.0   \n",
       "\n",
       "   kilometrage       marque  \n",
       "0       105492  alfa-romero  \n",
       "1       196554  alfa-romero  \n",
       "2        65386  alfa-romero  \n",
       "3       137872         audi  \n",
       "4       305802         audi  "
      ]
     },
     "execution_count": 83,
     "metadata": {},
     "output_type": "execute_result"
    }
   ],
   "source": [
    "df.head()"
   ]
  },
  {
   "cell_type": "code",
   "execution_count": 84,
   "metadata": {},
   "outputs": [],
   "source": [
    "#df.to_csv('fakeAutoData.csv')"
   ]
  }
 ],
 "metadata": {
  "interpreter": {
   "hash": "31f2aee4e71d21fbe5cf8b01ff0e069b9275f58929596ceb00d14d90e3e16cd6"
  },
  "kernelspec": {
   "display_name": "Python 3.8.10 64-bit",
   "language": "python",
   "name": "python3"
  },
  "language_info": {
   "codemirror_mode": {
    "name": "ipython",
    "version": 3
   },
   "file_extension": ".py",
   "mimetype": "text/x-python",
   "name": "python",
   "nbconvert_exporter": "python",
   "pygments_lexer": "ipython3",
   "version": "3.9.7"
  },
  "orig_nbformat": 4
 },
 "nbformat": 4,
 "nbformat_minor": 2
}
